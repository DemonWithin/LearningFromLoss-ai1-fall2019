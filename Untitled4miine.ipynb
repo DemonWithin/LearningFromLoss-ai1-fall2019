{
  "nbformat": 4,
  "nbformat_minor": 0,
  "metadata": {
    "colab": {
      "name": "Untitled4.ipynb",
      "provenance": [],
      "collapsed_sections": [],
      "include_colab_link": true
    },
    "kernelspec": {
      "name": "python3",
      "display_name": "Python 3"
    },
    "accelerator": "GPU"
  },
  "cells": [
    {
      "cell_type": "markdown",
      "metadata": {
        "id": "view-in-github",
        "colab_type": "text"
      },
      "source": [
        "<a href=\"https://colab.research.google.com/github/DemonWithin/LearningFromLoss-ai1-fall2019/blob/master/Untitled4miine.ipynb\" target=\"_parent\"><img src=\"https://colab.research.google.com/assets/colab-badge.svg\" alt=\"Open In Colab\"/></a>"
      ]
    },
    {
      "cell_type": "code",
      "metadata": {
        "id": "08fk4vDq0cIV",
        "colab_type": "code",
        "outputId": "d1f72953-e7e3-42d8-d417-c1e2de13bd5d",
        "colab": {
          "base_uri": "https://localhost:8080/",
          "height": 1000
        }
      },
      "source": [
        "!pip install wandb"
      ],
      "execution_count": 5,
      "outputs": [
        {
          "output_type": "stream",
          "text": [
            "Collecting wandb\n",
            "\u001b[?25l  Downloading https://files.pythonhosted.org/packages/46/7b/7d381b5c8345bb5c66bed293281d5c72f173027298e755b2ff2ed9971839/wandb-0.8.12-py2.py3-none-any.whl (1.3MB)\n",
            "\u001b[K     |████████████████████████████████| 1.3MB 2.8MB/s \n",
            "\u001b[?25hRequirement already satisfied: Click>=7.0 in /usr/local/lib/python3.6/dist-packages (from wandb) (7.0)\n",
            "Collecting GitPython>=1.0.0 (from wandb)\n",
            "\u001b[?25l  Downloading https://files.pythonhosted.org/packages/8e/c7/70bd352e8a561a9b6d1cde9aa313b9d7c871b0c94c3821f44c01f3187e1d/GitPython-3.0.2-py3-none-any.whl (453kB)\n",
            "\u001b[K     |████████████████████████████████| 460kB 42.4MB/s \n",
            "\u001b[?25hRequirement already satisfied: six>=1.10.0 in /usr/local/lib/python3.6/dist-packages (from wandb) (1.12.0)\n",
            "Collecting docker-pycreds>=0.4.0 (from wandb)\n",
            "  Downloading https://files.pythonhosted.org/packages/f5/e8/f6bd1eee09314e7e6dee49cbe2c5e22314ccdb38db16c9fc72d2fa80d054/docker_pycreds-0.4.0-py2.py3-none-any.whl\n",
            "Collecting subprocess32>=3.5.3 (from wandb)\n",
            "\u001b[?25l  Downloading https://files.pythonhosted.org/packages/32/c8/564be4d12629b912ea431f1a50eb8b3b9d00f1a0b1ceff17f266be190007/subprocess32-3.5.4.tar.gz (97kB)\n",
            "\u001b[K     |████████████████████████████████| 102kB 30.9MB/s \n",
            "\u001b[?25hRequirement already satisfied: requests>=2.0.0 in /usr/local/lib/python3.6/dist-packages (from wandb) (2.21.0)\n",
            "Collecting python-dateutil>=2.6.1 (from wandb)\n",
            "\u001b[?25l  Downloading https://files.pythonhosted.org/packages/41/17/c62faccbfbd163c7f57f3844689e3a78bae1f403648a6afb1d0866d87fbb/python_dateutil-2.8.0-py2.py3-none-any.whl (226kB)\n",
            "\u001b[K     |████████████████████████████████| 235kB 42.2MB/s \n",
            "\u001b[?25hCollecting shortuuid>=0.5.0 (from wandb)\n",
            "  Downloading https://files.pythonhosted.org/packages/80/d7/2bfc9332e68d3e15ea97b9b1588b3899ad565120253d3fd71c8f7f13b4fe/shortuuid-0.5.0.tar.gz\n",
            "Requirement already satisfied: nvidia-ml-py3>=7.352.0 in /usr/local/lib/python3.6/dist-packages (from wandb) (7.352.0)\n",
            "Collecting configparser>=3.8.1 (from wandb)\n",
            "  Downloading https://files.pythonhosted.org/packages/7a/2a/95ed0501cf5d8709490b1d3a3f9b5cf340da6c433f896bbe9ce08dbe6785/configparser-4.0.2-py2.py3-none-any.whl\n",
            "Collecting gql>=0.1.0 (from wandb)\n",
            "  Downloading https://files.pythonhosted.org/packages/aa/9c/2933b7791210e00f5c26a6243198cc03af9132c29cf85e4c22cb007f171e/gql-0.1.0.tar.gz\n",
            "Requirement already satisfied: psutil>=5.0.0 in /usr/local/lib/python3.6/dist-packages (from wandb) (5.4.8)\n",
            "Collecting watchdog>=0.8.3 (from wandb)\n",
            "\u001b[?25l  Downloading https://files.pythonhosted.org/packages/bb/e3/5a55d48a29300160779f0a0d2776d17c1b762a2039b36de528b093b87d5b/watchdog-0.9.0.tar.gz (85kB)\n",
            "\u001b[K     |████████████████████████████████| 92kB 27.8MB/s \n",
            "\u001b[?25hCollecting sentry-sdk>=0.4.0 (from wandb)\n",
            "\u001b[?25l  Downloading https://files.pythonhosted.org/packages/cf/c2/845d503adb168fcd276a54ac7e5a4fab18d8ed83cf8ad8fba6599eb6ca9c/sentry_sdk-0.12.2-py2.py3-none-any.whl (84kB)\n",
            "\u001b[K     |████████████████████████████████| 92kB 28.2MB/s \n",
            "\u001b[?25hCollecting gitdb2>=2.0.0 (from GitPython>=1.0.0->wandb)\n",
            "\u001b[?25l  Downloading https://files.pythonhosted.org/packages/03/6c/99296f89bad2ef85626e1df9f677acbee8885bb043ad82ad3ed4746d2325/gitdb2-2.0.6-py2.py3-none-any.whl (63kB)\n",
            "\u001b[K     |████████████████████████████████| 71kB 29.1MB/s \n",
            "\u001b[?25hRequirement already satisfied: urllib3<1.25,>=1.21.1 in /usr/local/lib/python3.6/dist-packages (from requests>=2.0.0->wandb) (1.24.3)\n",
            "Requirement already satisfied: certifi>=2017.4.17 in /usr/local/lib/python3.6/dist-packages (from requests>=2.0.0->wandb) (2019.6.16)\n",
            "Requirement already satisfied: idna<2.9,>=2.5 in /usr/local/lib/python3.6/dist-packages (from requests>=2.0.0->wandb) (2.8)\n",
            "Requirement already satisfied: chardet<3.1.0,>=3.0.2 in /usr/local/lib/python3.6/dist-packages (from requests>=2.0.0->wandb) (3.0.4)\n",
            "Collecting graphql-core>=0.5.0 (from gql>=0.1.0->wandb)\n",
            "\u001b[?25l  Downloading https://files.pythonhosted.org/packages/6a/11/bc4a7eb440124271289d93e4d208bd07d94196038fabbe2a52435a07d3d3/graphql_core-2.2.1-py2.py3-none-any.whl (250kB)\n",
            "\u001b[K     |████████████████████████████████| 256kB 42.4MB/s \n",
            "\u001b[?25hRequirement already satisfied: promise>=0.4.0 in /usr/local/lib/python3.6/dist-packages (from gql>=0.1.0->wandb) (2.2.1)\n",
            "Requirement already satisfied: PyYAML>=3.10 in /usr/local/lib/python3.6/dist-packages (from watchdog>=0.8.3->wandb) (3.13)\n",
            "Collecting argh>=0.24.1 (from watchdog>=0.8.3->wandb)\n",
            "  Downloading https://files.pythonhosted.org/packages/06/1c/e667a7126f0b84aaa1c56844337bf0ac12445d1beb9c8a6199a7314944bf/argh-0.26.2-py2.py3-none-any.whl\n",
            "Collecting pathtools>=0.1.1 (from watchdog>=0.8.3->wandb)\n",
            "  Downloading https://files.pythonhosted.org/packages/e7/7f/470d6fcdf23f9f3518f6b0b76be9df16dcc8630ad409947f8be2eb0ed13a/pathtools-0.1.2.tar.gz\n",
            "Collecting smmap2>=2.0.0 (from gitdb2>=2.0.0->GitPython>=1.0.0->wandb)\n",
            "  Downloading https://files.pythonhosted.org/packages/55/d2/866d45e3a121ee15a1dc013824d58072fd5c7799c9c34d01378eb262ca8f/smmap2-2.0.5-py2.py3-none-any.whl\n",
            "Collecting rx<3,>=1.6 (from graphql-core>=0.5.0->gql>=0.1.0->wandb)\n",
            "\u001b[?25l  Downloading https://files.pythonhosted.org/packages/33/0f/5ef4ac78e2a538cc1b054eb86285fe0bf7a5dbaeaac2c584757c300515e2/Rx-1.6.1-py2.py3-none-any.whl (179kB)\n",
            "\u001b[K     |████████████████████████████████| 184kB 42.7MB/s \n",
            "\u001b[?25hBuilding wheels for collected packages: subprocess32, shortuuid, gql, watchdog, pathtools\n",
            "  Building wheel for subprocess32 (setup.py) ... \u001b[?25l\u001b[?25hdone\n",
            "  Created wheel for subprocess32: filename=subprocess32-3.5.4-cp36-none-any.whl size=6489 sha256=3d1caa3d9214fee5082cb1a0cfe9b5f96833be537d75a836476e7a0c74bb7e73\n",
            "  Stored in directory: /root/.cache/pip/wheels/68/39/1a/5e402bdfdf004af1786c8b853fd92f8c4a04f22aad179654d1\n",
            "  Building wheel for shortuuid (setup.py) ... \u001b[?25l\u001b[?25hdone\n",
            "  Created wheel for shortuuid: filename=shortuuid-0.5.0-cp36-none-any.whl size=5499 sha256=0046fd3a8d95b443ea7262406b044ad9c74a02334f40e510e3c949bd7ffdf1d9\n",
            "  Stored in directory: /root/.cache/pip/wheels/3f/eb/fd/69e5177f67b505e44acbd1aedfbe44b91768ee0c4cd5636576\n",
            "  Building wheel for gql (setup.py) ... \u001b[?25l\u001b[?25hdone\n",
            "  Created wheel for gql: filename=gql-0.1.0-cp36-none-any.whl size=5541 sha256=568709f3fa1f8d424e23a635b8b435f785051f404f6a14056bd61b5575f06220\n",
            "  Stored in directory: /root/.cache/pip/wheels/a7/8d/65/a3247f500d675d80a01e4d2f0ee44fe99f1faef575bc2a1664\n",
            "  Building wheel for watchdog (setup.py) ... \u001b[?25l\u001b[?25hdone\n",
            "  Created wheel for watchdog: filename=watchdog-0.9.0-cp36-none-any.whl size=73652 sha256=39c5a885f7a0fc8dcce95c5b8bbe810147083a84fd7bbb7631a7fae5b01fbb4d\n",
            "  Stored in directory: /root/.cache/pip/wheels/61/1d/d0/04cfe495619be2095eb8d89a31c42adb4e42b76495bc8f784c\n",
            "  Building wheel for pathtools (setup.py) ... \u001b[?25l\u001b[?25hdone\n",
            "  Created wheel for pathtools: filename=pathtools-0.1.2-cp36-none-any.whl size=8786 sha256=97093d99ae1b9184ed1a7994e7218b6100919800565b9f9af12e4c7040407ca3\n",
            "  Stored in directory: /root/.cache/pip/wheels/0b/04/79/c3b0c3a0266a3cb4376da31e5bfe8bba0c489246968a68e843\n",
            "Successfully built subprocess32 shortuuid gql watchdog pathtools\n",
            "\u001b[31mERROR: albumentations 0.1.12 has requirement imgaug<0.2.7,>=0.2.5, but you'll have imgaug 0.2.9 which is incompatible.\u001b[0m\n",
            "Installing collected packages: smmap2, gitdb2, GitPython, docker-pycreds, subprocess32, python-dateutil, shortuuid, configparser, rx, graphql-core, gql, argh, pathtools, watchdog, sentry-sdk, wandb\n",
            "  Found existing installation: python-dateutil 2.5.3\n",
            "    Uninstalling python-dateutil-2.5.3:\n",
            "      Successfully uninstalled python-dateutil-2.5.3\n",
            "Successfully installed GitPython-3.0.2 argh-0.26.2 configparser-4.0.2 docker-pycreds-0.4.0 gitdb2-2.0.6 gql-0.1.0 graphql-core-2.2.1 pathtools-0.1.2 python-dateutil-2.8.0 rx-1.6.1 sentry-sdk-0.12.2 shortuuid-0.5.0 smmap2-2.0.5 subprocess32-3.5.4 wandb-0.8.12 watchdog-0.9.0\n"
          ],
          "name": "stdout"
        },
        {
          "output_type": "display_data",
          "data": {
            "application/vnd.colab-display-data+json": {
              "pip_warning": {
                "packages": [
                  "dateutil"
                ]
              }
            }
          },
          "metadata": {
            "tags": []
          }
        }
      ]
    },
    {
      "cell_type": "code",
      "metadata": {
        "id": "TqASeFdG1Tbg",
        "colab_type": "code",
        "colab": {
          "base_uri": "https://localhost:8080/",
          "height": 34
        },
        "outputId": "3072c417-17fe-4996-8230-b2997c1068ae"
      },
      "source": [
        "# from wandb classes\n",
        "import numpy\n",
        "from keras.datasets import mnist\n",
        "from keras.models import Sequential\n",
        "from keras.layers import Dense, Flatten, Dropout\n",
        "from keras.utils import np_utils\n",
        "import json\n",
        "from wandb.keras import WandbCallback\n",
        "import wandb\n",
        "run = wandb.init()\n"
      ],
      "execution_count": 10,
      "outputs": [
        {
          "output_type": "display_data",
          "data": {
            "text/html": [
              "\n",
              "            Notebook configured with <a href=\"https://wandb.com\" target=\"_blank\">W&B</a>. You can <a href=\"https://app.wandb.ai/rishabh/uncategorized/runs/5ultcyh9\" target=\"_blank\">open</a> the run page, or call <code>%%wandb</code>\n",
              "            in a cell containing your training loop to display live results.  Learn more in our <a href=\"https://docs.wandb.com/docs/integrations/jupyter.html\" target=\"_blank\">docs</a>.\n",
              "        "
            ],
            "text/plain": [
              "<IPython.core.display.HTML object>"
            ]
          },
          "metadata": {
            "tags": []
          }
        }
      ]
    },
    {
      "cell_type": "code",
      "metadata": {
        "id": "H2MQwUaW1jhy",
        "colab_type": "code",
        "colab": {}
      },
      "source": [
        ""
      ],
      "execution_count": 0,
      "outputs": []
    },
    {
      "cell_type": "code",
      "metadata": {
        "id": "GPARldwz1eEG",
        "colab_type": "code",
        "colab": {
          "base_uri": "https://localhost:8080/",
          "height": 34
        },
        "outputId": "55e37ad2-f628-420a-ccd0-98e175617191"
      },
      "source": [
        "run = wandb.init()\n",
        "config = run.config\n",
        "config.optimizer = \"adam\"\n",
        "config.epochs = 50\n",
        "config.dropout = 0.3\n",
        "config.hidden_nodes = 100"
      ],
      "execution_count": 28,
      "outputs": [
        {
          "output_type": "display_data",
          "data": {
            "text/html": [
              "\n",
              "            Notebook configured with <a href=\"https://wandb.com\" target=\"_blank\">W&B</a>. You can <a href=\"https://app.wandb.ai/rishabh/uncategorized/runs/ytoezp9b\" target=\"_blank\">open</a> the run page, or call <code>%%wandb</code>\n",
              "            in a cell containing your training loop to display live results.  Learn more in our <a href=\"https://docs.wandb.com/docs/integrations/jupyter.html\" target=\"_blank\">docs</a>.\n",
              "        "
            ],
            "text/plain": [
              "<IPython.core.display.HTML object>"
            ]
          },
          "metadata": {
            "tags": []
          }
        }
      ]
    },
    {
      "cell_type": "code",
      "metadata": {
        "id": "w_mH3HYx10qO",
        "colab_type": "code",
        "colab": {}
      },
      "source": [
        "# load data\n",
        "(X_train, y_train), (X_test, y_test) = mnist.load_data()\n",
        "img_width = X_train.shape[1]\n",
        "img_height = X_train.shape[2]\n",
        "\n",
        "X_train = X_train.astype('float32')\n",
        "X_train /= 255.\n",
        "X_test = X_test.astype('float32')\n",
        "X_test /= 255."
      ],
      "execution_count": 0,
      "outputs": []
    },
    {
      "cell_type": "code",
      "metadata": {
        "id": "1MdfOQtj11Ah",
        "colab_type": "code",
        "colab": {}
      },
      "source": [
        "# one hot encode outputs\n",
        "y_train = np_utils.to_categorical(y_train)\n",
        "y_test = np_utils.to_categorical(y_test)\n",
        "labels = range(10)\n",
        "\n",
        "num_classes = y_train.shape[1]"
      ],
      "execution_count": 0,
      "outputs": []
    },
    {
      "cell_type": "code",
      "metadata": {
        "id": "HTE7E5Uu11EL",
        "colab_type": "code",
        "colab": {}
      },
      "source": [
        "# create model\n",
        "model=Sequential()\n",
        "model.add(Flatten(input_shape=(img_width,img_height)))\n",
        "model.add(Dropout(config.dropout))\n",
        "model.add(Dense(config.hidden_nodes, activation='relu'))\n",
        "#model.add(Dropout(config.dropout))\n",
        "model.add(Dense(num_classes, activation='softmax'))\n",
        "model.compile(loss='categorical_crossentropy', optimizer=config.optimizer,\n",
        "                    metrics=['accuracy'])"
      ],
      "execution_count": 0,
      "outputs": []
    },
    {
      "cell_type": "code",
      "metadata": {
        "id": "AygHG3Qy0lGr",
        "colab_type": "code",
        "outputId": "df94118e-252d-442d-a1c1-4b8909f85ec5",
        "colab": {
          "base_uri": "https://localhost:8080/",
          "height": 1000
        }
      },
      "source": [
        "# Fit the model\n",
        "model.fit(X_train, y_train, validation_data=(X_test, y_test),\n",
        "        epochs=config.epochs, callbacks=[WandbCallback(data_type=\"image\", labels=labels)])"
      ],
      "execution_count": 32,
      "outputs": [
        {
          "output_type": "stream",
          "text": [
            "Train on 60000 samples, validate on 10000 samples\n",
            "Epoch 1/50\n",
            " 1152/60000 [..............................] - ETA: 40s - loss: 1.6288 - acc: 0.5087"
          ],
          "name": "stdout"
        },
        {
          "output_type": "stream",
          "text": [
            "/usr/local/lib/python3.6/dist-packages/keras/callbacks.py:95: RuntimeWarning: Method (on_train_batch_end) is slow compared to the batch update (0.152845). Check your callbacks.\n",
            "  % (hook_name, delta_t_median), RuntimeWarning)\n"
          ],
          "name": "stderr"
        },
        {
          "output_type": "stream",
          "text": [
            "60000/60000 [==============================] - 9s 157us/step - loss: 0.3447 - acc: 0.8979 - val_loss: 0.1575 - val_acc: 0.9528\n",
            "Epoch 2/50\n",
            "60000/60000 [==============================] - 9s 155us/step - loss: 0.1748 - acc: 0.9478 - val_loss: 0.1121 - val_acc: 0.9663\n",
            "Epoch 3/50\n",
            "60000/60000 [==============================] - 9s 150us/step - loss: 0.1364 - acc: 0.9578 - val_loss: 0.0977 - val_acc: 0.9700\n",
            "Epoch 4/50\n",
            "60000/60000 [==============================] - 9s 151us/step - loss: 0.1149 - acc: 0.9651 - val_loss: 0.0892 - val_acc: 0.9719\n",
            "Epoch 5/50\n",
            "60000/60000 [==============================] - 9s 155us/step - loss: 0.1019 - acc: 0.9679 - val_loss: 0.0855 - val_acc: 0.9731\n",
            "Epoch 6/50\n",
            "60000/60000 [==============================] - 9s 149us/step - loss: 0.0909 - acc: 0.9712 - val_loss: 0.0734 - val_acc: 0.9762\n",
            "Epoch 7/50\n",
            "60000/60000 [==============================] - 9s 145us/step - loss: 0.0870 - acc: 0.9725 - val_loss: 0.0751 - val_acc: 0.9765\n",
            "Epoch 8/50\n",
            "60000/60000 [==============================] - 9s 145us/step - loss: 0.0780 - acc: 0.9748 - val_loss: 0.0616 - val_acc: 0.9811\n",
            "Epoch 9/50\n",
            "60000/60000 [==============================] - 9s 143us/step - loss: 0.0756 - acc: 0.9753 - val_loss: 0.0680 - val_acc: 0.9780\n",
            "Epoch 10/50\n",
            "60000/60000 [==============================] - 9s 147us/step - loss: 0.0701 - acc: 0.9769 - val_loss: 0.0615 - val_acc: 0.9807\n",
            "Epoch 11/50\n",
            "60000/60000 [==============================] - 9s 149us/step - loss: 0.0674 - acc: 0.9781 - val_loss: 0.0667 - val_acc: 0.9790\n",
            "Epoch 12/50\n",
            "60000/60000 [==============================] - 9s 143us/step - loss: 0.0647 - acc: 0.9797 - val_loss: 0.0633 - val_acc: 0.9796\n",
            "Epoch 13/50\n",
            "60000/60000 [==============================] - 9s 148us/step - loss: 0.0628 - acc: 0.9786 - val_loss: 0.0599 - val_acc: 0.9809\n",
            "Epoch 14/50\n",
            "60000/60000 [==============================] - 9s 151us/step - loss: 0.0604 - acc: 0.9796 - val_loss: 0.0769 - val_acc: 0.9764\n",
            "Epoch 15/50\n",
            "60000/60000 [==============================] - 9s 147us/step - loss: 0.0590 - acc: 0.9805 - val_loss: 0.0622 - val_acc: 0.9815\n",
            "Epoch 16/50\n",
            "60000/60000 [==============================] - 9s 149us/step - loss: 0.0562 - acc: 0.9816 - val_loss: 0.0705 - val_acc: 0.9797\n",
            "Epoch 17/50\n",
            "60000/60000 [==============================] - 9s 147us/step - loss: 0.0550 - acc: 0.9823 - val_loss: 0.0649 - val_acc: 0.9802\n",
            "Epoch 18/50\n",
            "60000/60000 [==============================] - 9s 148us/step - loss: 0.0546 - acc: 0.9821 - val_loss: 0.0663 - val_acc: 0.9783\n",
            "Epoch 19/50\n",
            "60000/60000 [==============================] - 9s 148us/step - loss: 0.0539 - acc: 0.9827 - val_loss: 0.0671 - val_acc: 0.9799\n",
            "Epoch 20/50\n",
            "60000/60000 [==============================] - 9s 150us/step - loss: 0.0513 - acc: 0.9828 - val_loss: 0.0680 - val_acc: 0.9820\n",
            "Epoch 21/50\n",
            "60000/60000 [==============================] - 9s 147us/step - loss: 0.0504 - acc: 0.9835 - val_loss: 0.0725 - val_acc: 0.9787\n",
            "Epoch 22/50\n",
            "60000/60000 [==============================] - 9s 148us/step - loss: 0.0485 - acc: 0.9840 - val_loss: 0.0604 - val_acc: 0.9833\n",
            "Epoch 23/50\n",
            "60000/60000 [==============================] - 9s 151us/step - loss: 0.0482 - acc: 0.9841 - val_loss: 0.0622 - val_acc: 0.9826\n",
            "Epoch 24/50\n",
            "60000/60000 [==============================] - 9s 149us/step - loss: 0.0493 - acc: 0.9837 - val_loss: 0.0657 - val_acc: 0.9807\n",
            "Epoch 25/50\n",
            "60000/60000 [==============================] - 9s 150us/step - loss: 0.0454 - acc: 0.9847 - val_loss: 0.0670 - val_acc: 0.9815\n",
            "Epoch 26/50\n",
            "60000/60000 [==============================] - 9s 152us/step - loss: 0.0473 - acc: 0.9843 - val_loss: 0.0632 - val_acc: 0.9814\n",
            "Epoch 27/50\n",
            "60000/60000 [==============================] - 9s 149us/step - loss: 0.0461 - acc: 0.9844 - val_loss: 0.0706 - val_acc: 0.9792\n",
            "Epoch 28/50\n",
            "60000/60000 [==============================] - 9s 152us/step - loss: 0.0450 - acc: 0.9850 - val_loss: 0.0633 - val_acc: 0.9821\n",
            "Epoch 29/50\n",
            "60000/60000 [==============================] - 9s 147us/step - loss: 0.0441 - acc: 0.9850 - val_loss: 0.0678 - val_acc: 0.9809\n",
            "Epoch 30/50\n",
            "60000/60000 [==============================] - 9s 149us/step - loss: 0.0433 - acc: 0.9859 - val_loss: 0.0696 - val_acc: 0.9809\n",
            "Epoch 31/50\n",
            "60000/60000 [==============================] - 9s 148us/step - loss: 0.0435 - acc: 0.9848 - val_loss: 0.0687 - val_acc: 0.9816\n",
            "Epoch 32/50\n",
            "60000/60000 [==============================] - 9s 152us/step - loss: 0.0434 - acc: 0.9857 - val_loss: 0.0687 - val_acc: 0.9814\n",
            "Epoch 33/50\n",
            "60000/60000 [==============================] - 9s 150us/step - loss: 0.0420 - acc: 0.9859 - val_loss: 0.0652 - val_acc: 0.9821\n",
            "Epoch 34/50\n",
            "60000/60000 [==============================] - 9s 150us/step - loss: 0.0403 - acc: 0.9862 - val_loss: 0.0710 - val_acc: 0.9797\n",
            "Epoch 35/50\n",
            "60000/60000 [==============================] - 9s 149us/step - loss: 0.0393 - acc: 0.9869 - val_loss: 0.0687 - val_acc: 0.9818\n",
            "Epoch 36/50\n",
            "60000/60000 [==============================] - 9s 156us/step - loss: 0.0406 - acc: 0.9862 - val_loss: 0.0708 - val_acc: 0.9822\n",
            "Epoch 37/50\n",
            "60000/60000 [==============================] - 9s 150us/step - loss: 0.0381 - acc: 0.9874 - val_loss: 0.0665 - val_acc: 0.9824\n",
            "Epoch 38/50\n",
            "60000/60000 [==============================] - 9s 151us/step - loss: 0.0397 - acc: 0.9868 - val_loss: 0.0757 - val_acc: 0.9792\n",
            "Epoch 39/50\n",
            "60000/60000 [==============================] - 9s 150us/step - loss: 0.0398 - acc: 0.9867 - val_loss: 0.0714 - val_acc: 0.9802\n",
            "Epoch 40/50\n",
            "60000/60000 [==============================] - 9s 157us/step - loss: 0.0383 - acc: 0.9869 - val_loss: 0.0684 - val_acc: 0.9814\n",
            "Epoch 41/50\n",
            "60000/60000 [==============================] - 9s 151us/step - loss: 0.0377 - acc: 0.9877 - val_loss: 0.0721 - val_acc: 0.9797\n",
            "Epoch 42/50\n",
            "60000/60000 [==============================] - 9s 152us/step - loss: 0.0383 - acc: 0.9878 - val_loss: 0.0668 - val_acc: 0.9825\n",
            "Epoch 43/50\n",
            "60000/60000 [==============================] - 9s 151us/step - loss: 0.0381 - acc: 0.9869 - val_loss: 0.0766 - val_acc: 0.9814\n",
            "Epoch 44/50\n",
            "60000/60000 [==============================] - 9s 151us/step - loss: 0.0375 - acc: 0.9873 - val_loss: 0.0771 - val_acc: 0.9814\n",
            "Epoch 45/50\n",
            "60000/60000 [==============================] - 9s 152us/step - loss: 0.0378 - acc: 0.9869 - val_loss: 0.0751 - val_acc: 0.9811\n",
            "Epoch 46/50\n",
            "60000/60000 [==============================] - 9s 153us/step - loss: 0.0362 - acc: 0.9875 - val_loss: 0.0724 - val_acc: 0.9823\n",
            "Epoch 47/50\n",
            "60000/60000 [==============================] - 9s 152us/step - loss: 0.0357 - acc: 0.9877 - val_loss: 0.0667 - val_acc: 0.9839\n",
            "Epoch 48/50\n",
            "60000/60000 [==============================] - 9s 151us/step - loss: 0.0357 - acc: 0.9880 - val_loss: 0.0769 - val_acc: 0.9803\n",
            "Epoch 49/50\n",
            "60000/60000 [==============================] - 9s 151us/step - loss: 0.0382 - acc: 0.9870 - val_loss: 0.0689 - val_acc: 0.9817\n",
            "Epoch 50/50\n",
            "60000/60000 [==============================] - 9s 151us/step - loss: 0.0363 - acc: 0.9878 - val_loss: 0.0643 - val_acc: 0.9817\n"
          ],
          "name": "stdout"
        },
        {
          "output_type": "execute_result",
          "data": {
            "text/plain": [
              "<keras.callbacks.History at 0x7f5a7bee32e8>"
            ]
          },
          "metadata": {
            "tags": []
          },
          "execution_count": 32
        }
      ]
    },
    {
      "cell_type": "code",
      "metadata": {
        "id": "nex2f6pu1yCW",
        "colab_type": "code",
        "colab": {}
      },
      "source": [
        ""
      ],
      "execution_count": 0,
      "outputs": []
    },
    {
      "cell_type": "code",
      "metadata": {
        "id": "6Amo-Mq50ni7",
        "colab_type": "code",
        "colab": {}
      },
      "source": [
        ""
      ],
      "execution_count": 0,
      "outputs": []
    }
  ]
}